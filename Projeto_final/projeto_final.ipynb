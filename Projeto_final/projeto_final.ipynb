{
 "cells": [
  {
   "cell_type": "markdown",
   "id": "6baeb33c",
   "metadata": {},
   "source": [
    "\n",
    "\n"
   ]
  },
  {
   "cell_type": "markdown",
   "id": "05dc82b4",
   "metadata": {},
   "source": [
    "# Requisitos\n",
    "\n",
    "Projeto Python Final\n",
    "\n",
    "Descrição: Extraindo um arquivo csv da Web\n",
    "\n",
    "Autora: Ivone Rosales -\n",
    "Data: 17.09.2022 -\n",
    "Versão: 0.0.7\n",
    "\n"
   ]
  },
  {
   "cell_type": "code",
   "execution_count": 94,
   "id": "2872a523",
   "metadata": {},
   "outputs": [],
   "source": [
    "# Importando os pacotes:\n",
    "\n",
    "import requests\n",
    "import pandas as pd"
   ]
  },
  {
   "cell_type": "code",
   "execution_count": 95,
   "id": "f6fcadd0",
   "metadata": {},
   "outputs": [],
   "source": [
    "from openpyxl import Workbook,load_workbook\n"
   ]
  },
  {
   "cell_type": "code",
   "execution_count": 96,
   "id": "8caebbc2",
   "metadata": {},
   "outputs": [
    {
     "data": {
      "text/plain": [
       "200"
      ]
     },
     "execution_count": 96,
     "metadata": {},
     "output_type": "execute_result"
    }
   ],
   "source": [
    "#Lendo a página de Dados TCE\n",
    "\n",
    "endereco = \"http://dados.tce.rs.gov.br/dados/municipal/balancete-despesa/2022.csv\"\n",
    "\n",
    "dados = requests.get(endereco)\n",
    "dados.status_code"
   ]
  },
  {
   "cell_type": "code",
   "execution_count": 97,
   "id": "034df98b",
   "metadata": {},
   "outputs": [],
   "source": [
    "def page_reader (endereco: str) -> requests.models.Response:\n",
    "        dados = requests.get (endereco)\n",
    "        return pagina"
   ]
  },
  {
   "cell_type": "code",
   "execution_count": 98,
   "id": "df417e54",
   "metadata": {},
   "outputs": [],
   "source": [
    "# Gravando o arquivo com as informações da variável \"dados\"\n",
    "\n",
    "arquivo = open('balancete.csv', 'wb')\n",
    "for texto in dados.iter_content(1048576):\n",
    "    arquivo.write(texto)\n",
    "arquivo.close()\n"
   ]
  },
  {
   "cell_type": "code",
   "execution_count": 99,
   "id": "409df9c0",
   "metadata": {},
   "outputs": [
    {
     "data": {
      "text/html": [
       "<div>\n",
       "<style scoped>\n",
       "    .dataframe tbody tr th:only-of-type {\n",
       "        vertical-align: middle;\n",
       "    }\n",
       "\n",
       "    .dataframe tbody tr th {\n",
       "        vertical-align: top;\n",
       "    }\n",
       "\n",
       "    .dataframe thead th {\n",
       "        text-align: right;\n",
       "    }\n",
       "</style>\n",
       "<table border=\"1\" class=\"dataframe\">\n",
       "  <thead>\n",
       "    <tr style=\"text-align: right;\">\n",
       "      <th></th>\n",
       "      <th>ANO</th>\n",
       "      <th>MES</th>\n",
       "      <th>COD_MUNICIPIO</th>\n",
       "      <th>NOME_MUNICIPIO</th>\n",
       "      <th>CD_ORGAO</th>\n",
       "      <th>NOME_ORGAO</th>\n",
       "      <th>CD_RECEBIMENTO</th>\n",
       "      <th>CD_ORGAO_ORCAMENTARIO</th>\n",
       "      <th>NOME_ORGAO_ORCAMENTARIO</th>\n",
       "      <th>CD_UNIDADE_ORCAMENTARIA</th>\n",
       "      <th>...</th>\n",
       "      <th>VL_CREDITOS_EXTRAORDINARIOS</th>\n",
       "      <th>VL_REDUCAO_DOTACAO</th>\n",
       "      <th>VL_SUPLEMENTACAO_RECURSO</th>\n",
       "      <th>VL_REDUCAO_RECURSO</th>\n",
       "      <th>VL_EMPENHADO</th>\n",
       "      <th>VL_LIQUIDADO</th>\n",
       "      <th>VL_PAGO</th>\n",
       "      <th>VL_LIMITADO</th>\n",
       "      <th>VL_RECOMPOSICAO</th>\n",
       "      <th>VL_PREVISAO_EXECUCAO</th>\n",
       "    </tr>\n",
       "  </thead>\n",
       "  <tbody>\n",
       "    <tr>\n",
       "      <th>0</th>\n",
       "      <td>2022</td>\n",
       "      <td>2</td>\n",
       "      <td>211</td>\n",
       "      <td>TAPES</td>\n",
       "      <td>88134</td>\n",
       "      <td>HNSC - HOSP. NOSSA SRA. DO CARMO - AUTARQUIA M...</td>\n",
       "      <td>268101</td>\n",
       "      <td>12</td>\n",
       "      <td>HOSPITAL NOSSA SENHORA DO CARMO</td>\n",
       "      <td>1</td>\n",
       "      <td>...</td>\n",
       "      <td>0.0</td>\n",
       "      <td>0.0</td>\n",
       "      <td>0.0</td>\n",
       "      <td>0.0</td>\n",
       "      <td>0.0</td>\n",
       "      <td>0.0</td>\n",
       "      <td>0.0</td>\n",
       "      <td>0.0</td>\n",
       "      <td>0.0</td>\n",
       "      <td>0.0</td>\n",
       "    </tr>\n",
       "    <tr>\n",
       "      <th>1</th>\n",
       "      <td>2022</td>\n",
       "      <td>2</td>\n",
       "      <td>211</td>\n",
       "      <td>TAPES</td>\n",
       "      <td>88134</td>\n",
       "      <td>HNSC - HOSP. NOSSA SRA. DO CARMO - AUTARQUIA M...</td>\n",
       "      <td>268101</td>\n",
       "      <td>12</td>\n",
       "      <td>HOSPITAL NOSSA SENHORA DO CARMO</td>\n",
       "      <td>1</td>\n",
       "      <td>...</td>\n",
       "      <td>0.0</td>\n",
       "      <td>0.0</td>\n",
       "      <td>0.0</td>\n",
       "      <td>0.0</td>\n",
       "      <td>0.0</td>\n",
       "      <td>0.0</td>\n",
       "      <td>0.0</td>\n",
       "      <td>0.0</td>\n",
       "      <td>0.0</td>\n",
       "      <td>0.0</td>\n",
       "    </tr>\n",
       "    <tr>\n",
       "      <th>2</th>\n",
       "      <td>2022</td>\n",
       "      <td>2</td>\n",
       "      <td>211</td>\n",
       "      <td>TAPES</td>\n",
       "      <td>88134</td>\n",
       "      <td>HNSC - HOSP. NOSSA SRA. DO CARMO - AUTARQUIA M...</td>\n",
       "      <td>268101</td>\n",
       "      <td>12</td>\n",
       "      <td>HOSPITAL NOSSA SENHORA DO CARMO</td>\n",
       "      <td>1</td>\n",
       "      <td>...</td>\n",
       "      <td>0.0</td>\n",
       "      <td>0.0</td>\n",
       "      <td>0.0</td>\n",
       "      <td>0.0</td>\n",
       "      <td>0.0</td>\n",
       "      <td>0.0</td>\n",
       "      <td>0.0</td>\n",
       "      <td>0.0</td>\n",
       "      <td>0.0</td>\n",
       "      <td>0.0</td>\n",
       "    </tr>\n",
       "  </tbody>\n",
       "</table>\n",
       "<p>3 rows × 37 columns</p>\n",
       "</div>"
      ],
      "text/plain": [
       "    ANO  MES  COD_MUNICIPIO NOME_MUNICIPIO  CD_ORGAO  \\\n",
       "0  2022    2            211          TAPES     88134   \n",
       "1  2022    2            211          TAPES     88134   \n",
       "2  2022    2            211          TAPES     88134   \n",
       "\n",
       "                                          NOME_ORGAO  CD_RECEBIMENTO  \\\n",
       "0  HNSC - HOSP. NOSSA SRA. DO CARMO - AUTARQUIA M...          268101   \n",
       "1  HNSC - HOSP. NOSSA SRA. DO CARMO - AUTARQUIA M...          268101   \n",
       "2  HNSC - HOSP. NOSSA SRA. DO CARMO - AUTARQUIA M...          268101   \n",
       "\n",
       "   CD_ORGAO_ORCAMENTARIO          NOME_ORGAO_ORCAMENTARIO  \\\n",
       "0                     12  HOSPITAL NOSSA SENHORA DO CARMO   \n",
       "1                     12  HOSPITAL NOSSA SENHORA DO CARMO   \n",
       "2                     12  HOSPITAL NOSSA SENHORA DO CARMO   \n",
       "\n",
       "   CD_UNIDADE_ORCAMENTARIA  ... VL_CREDITOS_EXTRAORDINARIOS  \\\n",
       "0                        1  ...                         0.0   \n",
       "1                        1  ...                         0.0   \n",
       "2                        1  ...                         0.0   \n",
       "\n",
       "  VL_REDUCAO_DOTACAO  VL_SUPLEMENTACAO_RECURSO VL_REDUCAO_RECURSO  \\\n",
       "0                0.0                       0.0                0.0   \n",
       "1                0.0                       0.0                0.0   \n",
       "2                0.0                       0.0                0.0   \n",
       "\n",
       "   VL_EMPENHADO VL_LIQUIDADO  VL_PAGO VL_LIMITADO  VL_RECOMPOSICAO  \\\n",
       "0           0.0          0.0      0.0         0.0              0.0   \n",
       "1           0.0          0.0      0.0         0.0              0.0   \n",
       "2           0.0          0.0      0.0         0.0              0.0   \n",
       "\n",
       "  VL_PREVISAO_EXECUCAO  \n",
       "0                  0.0  \n",
       "1                  0.0  \n",
       "2                  0.0  \n",
       "\n",
       "[3 rows x 37 columns]"
      ]
     },
     "execution_count": 99,
     "metadata": {},
     "output_type": "execute_result"
    }
   ],
   "source": [
    "# Usando pacote Pandas, para ler o arquivo \"balancete.csv\"\n",
    "\n",
    "balancete = pd.read_csv(\"balancete.csv\", index_col=None)\n",
    "balancete.head(3)\n"
   ]
  },
  {
   "cell_type": "code",
   "execution_count": 100,
   "id": "a3fa11f1",
   "metadata": {},
   "outputs": [],
   "source": [
    "# Usando o Pandas e Openpyxl para transformar arquivo .csv em .xlsx"
   ]
  },
  {
   "cell_type": "code",
   "execution_count": 101,
   "id": "94d2ce26",
   "metadata": {},
   "outputs": [],
   "source": [
    "balancete.to_excel(\"balancete.xlsx\", sheet_name=\"Consolidado_despesas_2022\", index = False)"
   ]
  },
  {
   "cell_type": "code",
   "execution_count": 102,
   "id": "5a44fb78",
   "metadata": {},
   "outputs": [],
   "source": [
    "novo_balancete = load_workbook(filename = \"balancete.xlsx\")\n",
    "novo_balancete.save(\"novo_balancete.xlsx\")"
   ]
  },
  {
   "cell_type": "code",
   "execution_count": 104,
   "id": "700a5cf5",
   "metadata": {},
   "outputs": [
    {
     "name": "stdout",
     "output_type": "stream",
     "text": [
      "<class 'pandas.core.frame.DataFrame'>\n",
      "RangeIndex: 447532 entries, 0 to 447531\n",
      "Data columns (total 37 columns):\n",
      " #   Column                       Non-Null Count   Dtype  \n",
      "---  ------                       --------------   -----  \n",
      " 0   ANO                          447532 non-null  int64  \n",
      " 1   MES                          447532 non-null  int64  \n",
      " 2   COD_MUNICIPIO                447532 non-null  int64  \n",
      " 3   NOME_MUNICIPIO               447532 non-null  object \n",
      " 4   CD_ORGAO                     447532 non-null  int64  \n",
      " 5   NOME_ORGAO                   447532 non-null  object \n",
      " 6   CD_RECEBIMENTO               447532 non-null  int64  \n",
      " 7   CD_ORGAO_ORCAMENTARIO        447532 non-null  int64  \n",
      " 8   NOME_ORGAO_ORCAMENTARIO      447532 non-null  object \n",
      " 9   CD_UNIDADE_ORCAMENTARIA      447532 non-null  int64  \n",
      " 10  NOME_UNIDADE                 447532 non-null  object \n",
      " 11  TP_UNIDADE                   447532 non-null  object \n",
      " 12  CD_FUNCAO                    447532 non-null  int64  \n",
      " 13  DS_FUNCAO                    447532 non-null  object \n",
      " 14  CD_SUBFUNCAO                 447532 non-null  int64  \n",
      " 15  DS_SUBFUNCAO                 447532 non-null  object \n",
      " 16  CD_PROGRAMA                  447532 non-null  int64  \n",
      " 17  DS_PROGRAMA                  447532 non-null  object \n",
      " 18  CD_PROJETO                   447532 non-null  int64  \n",
      " 19  NM_PROJETO                   447532 non-null  object \n",
      " 20  CD_ELEMENTO                  447532 non-null  object \n",
      " 21  CD_RECURSO                   447532 non-null  int64  \n",
      " 22  NM_RECURSO                   447532 non-null  object \n",
      " 23  VL_DOTACAO_INICIAL           447532 non-null  float64\n",
      " 24  VL_ATUALIZACAO_MONETARIA     447532 non-null  float64\n",
      " 25  VL_CREDITOS_SUPLEMENTARES    447532 non-null  float64\n",
      " 26  VL_CREDITOS_ESPECIAIS        447532 non-null  float64\n",
      " 27  VL_CREDITOS_EXTRAORDINARIOS  447532 non-null  float64\n",
      " 28  VL_REDUCAO_DOTACAO           447532 non-null  float64\n",
      " 29  VL_SUPLEMENTACAO_RECURSO     447532 non-null  float64\n",
      " 30  VL_REDUCAO_RECURSO           447532 non-null  float64\n",
      " 31  VL_EMPENHADO                 447532 non-null  float64\n",
      " 32  VL_LIQUIDADO                 447532 non-null  float64\n",
      " 33  VL_PAGO                      447532 non-null  float64\n",
      " 34  VL_LIMITADO                  447532 non-null  float64\n",
      " 35  VL_RECOMPOSICAO              447532 non-null  float64\n",
      " 36  VL_PREVISAO_EXECUCAO         447532 non-null  float64\n",
      "dtypes: float64(14), int64(12), object(11)\n",
      "memory usage: 126.3+ MB\n"
     ]
    }
   ],
   "source": [
    "balancete.info()"
   ]
  },
  {
   "cell_type": "code",
   "execution_count": null,
   "id": "693f601d",
   "metadata": {},
   "outputs": [],
   "source": []
  }
 ],
 "metadata": {
  "kernelspec": {
   "display_name": "Python 3 (ipykernel)",
   "language": "python",
   "name": "python3"
  },
  "language_info": {
   "codemirror_mode": {
    "name": "ipython",
    "version": 3
   },
   "file_extension": ".py",
   "mimetype": "text/x-python",
   "name": "python",
   "nbconvert_exporter": "python",
   "pygments_lexer": "ipython3",
   "version": "3.9.12"
  }
 },
 "nbformat": 4,
 "nbformat_minor": 5
}
