{
 "cells": [
  {
   "cell_type": "markdown",
   "id": "21ec1777",
   "metadata": {},
   "source": [
    "# Requisitos\n",
    "\n",
    "\n",
    "Escreva um programa em Phyton que colete dados de notícias políticas na página do G1 e os salve em um arquivo no formato html.\n",
    "\n",
    "Coloque o código e o arquivo html no seu GitHub.\n",
    "\n",
    "Dica: Use os pacotes requests."
   ]
  },
  {
   "cell_type": "code",
   "execution_count": 20,
   "id": "e0b7ac22",
   "metadata": {},
   "outputs": [],
   "source": [
    "# Importando o pacote requests:\n",
    "\n",
    "import requests"
   ]
  },
  {
   "cell_type": "code",
   "execution_count": 21,
   "id": "68649ea3",
   "metadata": {},
   "outputs": [
    {
     "data": {
      "text/plain": [
       "200"
      ]
     },
     "execution_count": 21,
     "metadata": {},
     "output_type": "execute_result"
    }
   ],
   "source": [
    "# Lendo a página de política do G1\n",
    "\n",
    "endereco = \"https://g1.globo.com/politica/\"\n",
    "\n",
    "pagina = requests.get(endereco)\n",
    "pagina.status_code\n",
    "\n"
   ]
  },
  {
   "cell_type": "code",
   "execution_count": 22,
   "id": "2464531a",
   "metadata": {},
   "outputs": [],
   "source": [
    "def page_reader (endereco: str) -> requests.models.Response:\n",
    "        pagina = requests.get (endereco)\n",
    "        return pagina\n",
    "    "
   ]
  },
  {
   "cell_type": "code",
   "execution_count": 23,
   "id": "6e06ee78",
   "metadata": {},
   "outputs": [
    {
     "data": {
      "text/plain": [
       "requests.models.Response"
      ]
     },
     "execution_count": 23,
     "metadata": {},
     "output_type": "execute_result"
    }
   ],
   "source": [
    "type(pagina)"
   ]
  },
  {
   "cell_type": "code",
   "execution_count": 24,
   "id": "b1426bea",
   "metadata": {},
   "outputs": [],
   "source": [
    "# Gravando o arquivo com as informações da variável página:\n",
    "\n",
    "arquivo = open('pagina.html', 'wb')\n",
    "for texto in pagina.iter_content(1048576):\n",
    "    arquivo.write(texto)\n",
    "arquivo.close()\n"
   ]
  },
  {
   "cell_type": "code",
   "execution_count": null,
   "id": "098dbd40",
   "metadata": {},
   "outputs": [],
   "source": []
  }
 ],
 "metadata": {
  "kernelspec": {
   "display_name": "Python 3 (ipykernel)",
   "language": "python",
   "name": "python3"
  },
  "language_info": {
   "codemirror_mode": {
    "name": "ipython",
    "version": 3
   },
   "file_extension": ".py",
   "mimetype": "text/x-python",
   "name": "python",
   "nbconvert_exporter": "python",
   "pygments_lexer": "ipython3",
   "version": "3.9.12"
  }
 },
 "nbformat": 4,
 "nbformat_minor": 5
}
