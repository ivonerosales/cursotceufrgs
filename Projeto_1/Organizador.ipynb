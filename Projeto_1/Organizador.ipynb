{
 "cells": [
  {
   "cell_type": "code",
   "execution_count": 1,
   "id": "609ba398",
   "metadata": {},
   "outputs": [],
   "source": [
    "import os\n",
    "\n",
    "#criando diretórios\n",
    "\n",
    "if os.path.exists('documentos') == False:\n",
    "    os.mkdir('documentos') \n",
    "\n",
    "if os.path.exists('planilhas') == False:\n",
    "    os.mkdir('planilhas')"
   ]
  },
  {
   "cell_type": "code",
   "execution_count": 3,
   "id": "ad02150f",
   "metadata": {},
   "outputs": [],
   "source": [
    "import shutil\n",
    "import os\n",
    "\n",
    "#move o arquivo para o diretório desejado\n",
    "\n",
    "arquivos = os.listdir()\n",
    "\n",
    "for arquivo in arquivos:\n",
    "    if \".xls\" in arquivo:\n",
    "        shutil.move(arquivo, f\"./planilhas/{arquivo}\")\n",
    "    elif \".doc\" in arquivo: \n",
    "        shutil.move(arquivo, f\"./documentos/{arquivo}\")\n"
   ]
  },
  {
   "cell_type": "code",
   "execution_count": 4,
   "id": "357b334a",
   "metadata": {},
   "outputs": [
    {
     "name": "stdout",
     "output_type": "stream",
     "text": [
      "['.ipynb_checkpoints', 'documentos', 'Organizador.ipynb', 'planilhas']\n"
     ]
    }
   ],
   "source": [
    "import os\n",
    "lista = os.listdir()\n",
    "print (lista)"
   ]
  }
 ],
 "metadata": {
  "kernelspec": {
   "display_name": "Python 3 (ipykernel)",
   "language": "python",
   "name": "python3"
  },
  "language_info": {
   "codemirror_mode": {
    "name": "ipython",
    "version": 3
   },
   "file_extension": ".py",
   "mimetype": "text/x-python",
   "name": "python",
   "nbconvert_exporter": "python",
   "pygments_lexer": "ipython3",
   "version": "3.9.12"
  }
 },
 "nbformat": 4,
 "nbformat_minor": 5
}
